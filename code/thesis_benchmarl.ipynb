{
  "nbformat": 4,
  "nbformat_minor": 0,
  "metadata": {
    "colab": {
      "provenance": []
    },
    "kernelspec": {
      "name": "python3",
      "display_name": "Python 3"
    },
    "language_info": {
      "name": "python"
    }
  },
  "cells": [
    {
      "cell_type": "code",
      "source": [
        "!pip install benchmarl vmas"
      ],
      "metadata": {
        "colab": {
          "base_uri": "https://localhost:8080/"
        },
        "id": "MdBhU5OHoW26",
        "outputId": "5ac6869b-5e24-4e58-d927-51f7c169307d"
      },
      "execution_count": 411,
      "outputs": [
        {
          "output_type": "stream",
          "name": "stdout",
          "text": [
            "Requirement already satisfied: benchmarl in /usr/local/lib/python3.12/dist-packages (1.5.0)\n",
            "Requirement already satisfied: vmas in /usr/local/lib/python3.12/dist-packages (1.5.0)\n",
            "Requirement already satisfied: torchrl~=0.8.0 in /usr/local/lib/python3.12/dist-packages (from benchmarl) (0.8.1)\n",
            "Requirement already satisfied: tqdm in /usr/local/lib/python3.12/dist-packages (from benchmarl) (4.67.1)\n",
            "Requirement already satisfied: hydra-core in /usr/local/lib/python3.12/dist-packages (from benchmarl) (1.3.2)\n",
            "Requirement already satisfied: torchvision in /usr/local/lib/python3.12/dist-packages (from benchmarl) (0.23.0+cu126)\n",
            "Requirement already satisfied: av<14 in /usr/local/lib/python3.12/dist-packages (from benchmarl) (13.1.0)\n",
            "Requirement already satisfied: numpy in /usr/local/lib/python3.12/dist-packages (from vmas) (2.0.2)\n",
            "Requirement already satisfied: torch in /usr/local/lib/python3.12/dist-packages (from vmas) (2.8.0+cu126)\n",
            "Requirement already satisfied: pyglet<=1.5.27 in /usr/local/lib/python3.12/dist-packages (from vmas) (1.5.27)\n",
            "Requirement already satisfied: gym in /usr/local/lib/python3.12/dist-packages (from vmas) (0.25.2)\n",
            "Requirement already satisfied: six in /usr/local/lib/python3.12/dist-packages (from vmas) (1.17.0)\n",
            "Requirement already satisfied: packaging in /usr/local/lib/python3.12/dist-packages (from torchrl~=0.8.0->benchmarl) (25.0)\n",
            "Requirement already satisfied: cloudpickle in /usr/local/lib/python3.12/dist-packages (from torchrl~=0.8.0->benchmarl) (3.1.1)\n",
            "Requirement already satisfied: tensordict<0.9.0,>=0.8.3 in /usr/local/lib/python3.12/dist-packages (from torchrl~=0.8.0->benchmarl) (0.8.3)\n",
            "Requirement already satisfied: filelock in /usr/local/lib/python3.12/dist-packages (from torch->vmas) (3.19.1)\n",
            "Requirement already satisfied: typing-extensions>=4.10.0 in /usr/local/lib/python3.12/dist-packages (from torch->vmas) (4.14.1)\n",
            "Requirement already satisfied: setuptools in /usr/local/lib/python3.12/dist-packages (from torch->vmas) (75.2.0)\n",
            "Requirement already satisfied: sympy>=1.13.3 in /usr/local/lib/python3.12/dist-packages (from torch->vmas) (1.13.3)\n",
            "Requirement already satisfied: networkx in /usr/local/lib/python3.12/dist-packages (from torch->vmas) (3.5)\n",
            "Requirement already satisfied: jinja2 in /usr/local/lib/python3.12/dist-packages (from torch->vmas) (3.1.6)\n",
            "Requirement already satisfied: fsspec in /usr/local/lib/python3.12/dist-packages (from torch->vmas) (2025.3.0)\n",
            "Requirement already satisfied: nvidia-cuda-nvrtc-cu12==12.6.77 in /usr/local/lib/python3.12/dist-packages (from torch->vmas) (12.6.77)\n",
            "Requirement already satisfied: nvidia-cuda-runtime-cu12==12.6.77 in /usr/local/lib/python3.12/dist-packages (from torch->vmas) (12.6.77)\n",
            "Requirement already satisfied: nvidia-cuda-cupti-cu12==12.6.80 in /usr/local/lib/python3.12/dist-packages (from torch->vmas) (12.6.80)\n",
            "Requirement already satisfied: nvidia-cudnn-cu12==9.10.2.21 in /usr/local/lib/python3.12/dist-packages (from torch->vmas) (9.10.2.21)\n",
            "Requirement already satisfied: nvidia-cublas-cu12==12.6.4.1 in /usr/local/lib/python3.12/dist-packages (from torch->vmas) (12.6.4.1)\n",
            "Requirement already satisfied: nvidia-cufft-cu12==11.3.0.4 in /usr/local/lib/python3.12/dist-packages (from torch->vmas) (11.3.0.4)\n",
            "Requirement already satisfied: nvidia-curand-cu12==10.3.7.77 in /usr/local/lib/python3.12/dist-packages (from torch->vmas) (10.3.7.77)\n",
            "Requirement already satisfied: nvidia-cusolver-cu12==11.7.1.2 in /usr/local/lib/python3.12/dist-packages (from torch->vmas) (11.7.1.2)\n",
            "Requirement already satisfied: nvidia-cusparse-cu12==12.5.4.2 in /usr/local/lib/python3.12/dist-packages (from torch->vmas) (12.5.4.2)\n",
            "Requirement already satisfied: nvidia-cusparselt-cu12==0.7.1 in /usr/local/lib/python3.12/dist-packages (from torch->vmas) (0.7.1)\n",
            "Requirement already satisfied: nvidia-nccl-cu12==2.27.3 in /usr/local/lib/python3.12/dist-packages (from torch->vmas) (2.27.3)\n",
            "Requirement already satisfied: nvidia-nvtx-cu12==12.6.77 in /usr/local/lib/python3.12/dist-packages (from torch->vmas) (12.6.77)\n",
            "Requirement already satisfied: nvidia-nvjitlink-cu12==12.6.85 in /usr/local/lib/python3.12/dist-packages (from torch->vmas) (12.6.85)\n",
            "Requirement already satisfied: nvidia-cufile-cu12==1.11.1.6 in /usr/local/lib/python3.12/dist-packages (from torch->vmas) (1.11.1.6)\n",
            "Requirement already satisfied: triton==3.4.0 in /usr/local/lib/python3.12/dist-packages (from torch->vmas) (3.4.0)\n",
            "Requirement already satisfied: gym-notices>=0.0.4 in /usr/local/lib/python3.12/dist-packages (from gym->vmas) (0.1.0)\n",
            "Requirement already satisfied: omegaconf<2.4,>=2.2 in /usr/local/lib/python3.12/dist-packages (from hydra-core->benchmarl) (2.3.0)\n",
            "Requirement already satisfied: antlr4-python3-runtime==4.9.* in /usr/local/lib/python3.12/dist-packages (from hydra-core->benchmarl) (4.9.3)\n",
            "Requirement already satisfied: pillow!=8.3.*,>=5.3.0 in /usr/local/lib/python3.12/dist-packages (from torchvision->benchmarl) (11.3.0)\n",
            "Requirement already satisfied: PyYAML>=5.1.0 in /usr/local/lib/python3.12/dist-packages (from omegaconf<2.4,>=2.2->hydra-core->benchmarl) (6.0.2)\n",
            "Requirement already satisfied: mpmath<1.4,>=1.1.0 in /usr/local/lib/python3.12/dist-packages (from sympy>=1.13.3->torch->vmas) (1.3.0)\n",
            "Requirement already satisfied: importlib_metadata in /usr/local/lib/python3.12/dist-packages (from tensordict<0.9.0,>=0.8.3->torchrl~=0.8.0->benchmarl) (8.7.0)\n",
            "Requirement already satisfied: orjson in /usr/local/lib/python3.12/dist-packages (from tensordict<0.9.0,>=0.8.3->torchrl~=0.8.0->benchmarl) (3.11.2)\n",
            "Requirement already satisfied: MarkupSafe>=2.0 in /usr/local/lib/python3.12/dist-packages (from jinja2->torch->vmas) (3.0.2)\n",
            "Requirement already satisfied: zipp>=3.20 in /usr/local/lib/python3.12/dist-packages (from importlib_metadata->tensordict<0.9.0,>=0.8.3->torchrl~=0.8.0->benchmarl) (3.23.0)\n"
          ]
        }
      ]
    },
    {
      "cell_type": "code",
      "source": [
        "import torch\n",
        "import numpy as np\n",
        "from vmas import make_env\n",
        "from vmas.simulator.core import Agent, World, Landmark\n",
        "from vmas.simulator.scenario import BaseScenario\n",
        "from vmas.simulator.utils import Color\n",
        "import random\n",
        "import gym\n",
        "import torch\n",
        "from benchmarl.algorithms import MappoConfig\n",
        "from benchmarl.environments import Task\n",
        "from benchmarl.experiment import Experiment, ExperimentConfig\n",
        "from benchmarl.models.common import SequenceModelConfig\n",
        "import matplotlib.pyplot as plt"
      ],
      "metadata": {
        "id": "2oOe8fIg6n_V"
      },
      "execution_count": 99,
      "outputs": []
    },
    {
      "cell_type": "code",
      "source": [
        "action_mask = torch.tensor([\n",
        "            [-1, 0],  # Left\n",
        "            [1, 0],   # Right\n",
        "            [0, 1],   # Up\n",
        "            [0, -1],  # Down\n",
        "        ])"
      ],
      "metadata": {
        "id": "lAisy9t5V5yA"
      },
      "execution_count": 100,
      "outputs": []
    },
    {
      "cell_type": "code",
      "source": [
        "action_mask[0] + action_mask[2]"
      ],
      "metadata": {
        "colab": {
          "base_uri": "https://localhost:8080/"
        },
        "id": "efjaYUZuY2jL",
        "outputId": "19c19970-0fad-4bb1-e6a4-53ae50a3a6f8"
      },
      "execution_count": 101,
      "outputs": [
        {
          "output_type": "execute_result",
          "data": {
            "text/plain": [
              "tensor([-1,  1])"
            ]
          },
          "metadata": {},
          "execution_count": 101
        }
      ]
    },
    {
      "cell_type": "code",
      "execution_count": 383,
      "metadata": {
        "id": "hzunaFCC6bdh"
      },
      "outputs": [],
      "source": [
        "class DiscreteGridTrafficScenario(BaseScenario):\n",
        "    def make_world(self, batch_dim: int, device: torch.device, **kwargs):\n",
        "        # Environment parameters from the paper\n",
        "        self.grid_size = kwargs.get(\"grid_size\", 10)  # N_x^1 = N_x^2 = grid_size\n",
        "        self.num_agents = kwargs.get(\"num_agents\", 20)\n",
        "        self.max_steps = kwargs.get(\"max_steps\", 100)\n",
        "        self.congestion_weight = kwargs.get(\"congestion_weight\", 1)  # λ parameter\n",
        "        self.time_penalty = kwargs.get(\"time_penalty\", 0.5)  # Constant time penalty per step\n",
        "\n",
        "        # Create world\n",
        "        world = World(batch_dim, device, dt=1.0, substeps=1)  # Discrete time steps\n",
        "\n",
        "        self.action_mask = torch.tensor([\n",
        "            [-1, 0],  # Left\n",
        "            [1, 0],   # Right\n",
        "            [0, 1],   # Up\n",
        "            [0, -1],  # Down\n",
        "        ])\n",
        "\n",
        "\n",
        "        # Add agents (vehicles/followers)\n",
        "        self.agents = []\n",
        "        for i in range(self.num_agents):\n",
        "            agent = Agent(\n",
        "                name=f\"vehicle_{i}\",\n",
        "                collide=False,  # Collisions handled in grid logic\n",
        "                u_range=1.0,\n",
        "                max_speed=1.0,\n",
        "                color=Color.BLUE,\n",
        "                discrete_action_nvec=[4],\n",
        "                action_size=1\n",
        "\n",
        "            )\n",
        "            world.add_agent(agent)\n",
        "            self.agents.append(agent)\n",
        "\n",
        "        # Add target location (0,0) as landmark\n",
        "        self.target = Landmark(\n",
        "            name=\"target\",\n",
        "            collide=False,\n",
        "            shape=None,\n",
        "            color=Color.GREEN,\n",
        "        )\n",
        "        world.add_landmark(self.target)\n",
        "        self.target.set_pos(torch.tensor([0, 0]), batch_index=None)\n",
        "\n",
        "        # Create grid obstacles (from paper)\n",
        "        self.obstacles = []\n",
        "        self.obstacle_map = torch.zeros((self.grid_size, self.grid_size), device=device, dtype=torch.bool)\n",
        "\n",
        "        # Initialize population distribution tracking\n",
        "        self.mean_field_distribution = torch.zeros((self.grid_size, self.grid_size), device=device)\n",
        "        self.step_count = 0\n",
        "\n",
        "        return world\n",
        "\n",
        "    def reset_world_at(self, env_index: int = None):\n",
        "        # Initialize agents at random positions (except target and obstacles)\n",
        "        random.seed(42)\n",
        "        torch.manual_seed(42)\n",
        "        for agent in self.agents:\n",
        "            while True:\n",
        "                # Random grid position\n",
        "                pos = torch.tensor([\n",
        "                    torch.randint(self.grid_size - 2, self.grid_size, (1,)).item(),\n",
        "                    torch.randint(self.grid_size - 2, self.grid_size, (1,)).item()\n",
        "                ], device=agent.device, dtype=torch.int32)\n",
        "                # Check if position is valid (not obstacle and not target)\n",
        "                cell_x, cell_y = int(pos[0].item()), int(pos[1].item())\n",
        "                if (cell_x, cell_y) != (0, 0) and not self.obstacle_map[cell_x, cell_y]:\n",
        "                    break\n",
        "\n",
        "            agent.set_pos(pos, batch_index=env_index)\n",
        "            agent.set_vel(torch.zeros(2, device=agent.device), batch_index=env_index)\n",
        "\n",
        "        # Reset population distribution\n",
        "        self.update_mean_field_distribution()\n",
        "        self.step_count = 0\n",
        "\n",
        "    def update_mean_field_distribution(self):\n",
        "        \"\"\"Update the population distribution μ_t across the grid\"\"\"\n",
        "        # Reset distribution\n",
        "        self.mean_field_distribution = torch.zeros((self.grid_size, self.grid_size),\n",
        "                                                 device=self.world.device)\n",
        "\n",
        "        # Count agents in each cell\n",
        "        for agent in self.agents:\n",
        "            pos = agent.state.pos\n",
        "            cell_x = min(self.grid_size-1, max(0, pos[0,0].item()))\n",
        "            cell_y = min(self.grid_size-1, max(0, pos[0,1].item()))\n",
        "            self.mean_field_distribution[cell_x, cell_y] += 1\n",
        "\n",
        "        # Normalize to get distribution (probability mass function)\n",
        "        if self.num_agents > 0:\n",
        "            self.mean_field_distribution /= self.num_agents\n",
        "\n",
        "    def get_cell_population(self, position):\n",
        "        \"\"\"Get population density at a given grid position\"\"\"\n",
        "        cell_x = min(self.grid_size-1, max(0, position[0,0].item()))\n",
        "        cell_y = min(self.grid_size-1, max(0, position[0,1].item()))\n",
        "        return self.mean_field_distribution[cell_x, cell_y]\n",
        "\n",
        "    def is_valid_move(self, current_pos, move):\n",
        "        \"\"\"Check if a move is valid (within grid and not blocked)\"\"\"\n",
        "        new_pos = current_pos + move\n",
        "\n",
        "        # This is the consistent, safe method.\n",
        "        cell_x = min(self.grid_size-1, max(0, new_pos[0,0].item()))\n",
        "        cell_y = min(self.grid_size-1, max(0, new_pos[0,1].item()))\n",
        "\n",
        "        intended_cell_x = new_pos[0,0].item()\n",
        "        intended_cell_y = new_pos[0,1].item()\n",
        "\n",
        "        # Check if the intended cell is different from the clamped cell.\n",
        "        if intended_cell_x != cell_x or intended_cell_y != cell_y:\n",
        "            return False\n",
        "\n",
        "        # Now check obstacles on the valid cell.\n",
        "        if self.obstacle_map[cell_x, cell_y]:\n",
        "            return False\n",
        "\n",
        "        if intended_cell_x > 9 or intended_cell_y > 9 or intended_cell_x < 0 or intended_cell_y < 0:\n",
        "            return False\n",
        "\n",
        "        return True\n",
        "\n",
        "    def discrete_transition(self, agent: Agent, action_idx: int):\n",
        "        \"\"\"Apply discrete transition dynamics based on paper\"\"\"\n",
        "        move = self.action_mask[action_idx]\n",
        "\n",
        "        # Check if move is valid\n",
        "        if self.is_valid_move(agent.state.pos, move):\n",
        "            new_pos = agent.state.pos + move\n",
        "            agent.set_pos(new_pos, batch_index=None)\n",
        "        # If invalid, agent stays in place (as per paper's dynamics)\n",
        "\n",
        "        return agent.state.pos\n",
        "\n",
        "    def reward(self, agent: Agent):\n",
        "        # Negative cost as reward (to be maximized)\n",
        "        time_penalty = self.time_penalty\n",
        "        pos = torch.round(agent.state.pos)\n",
        "\n",
        "        # This is the consistent, safe method.\n",
        "        cell_x = min(self.grid_size-1, max(0, pos[0,0].item()))\n",
        "        cell_y = min(self.grid_size-1, max(0, pos[0,1].item()))\n",
        "\n",
        "        # Congestion penalty (λ * μ(x))\n",
        "        congestion = self.mean_field_distribution[cell_x, cell_y]\n",
        "        congestion_penalty = self.congestion_weight * torch.tensor(congestion, device=agent.device)\n",
        "\n",
        "        # Check if at target\n",
        "        at_target = torch.all(torch.eq(agent.state.pos, torch.tensor([0, 0], device=agent.device)))\n",
        "        if at_target:\n",
        "            # No further cost if at target\n",
        "            return torch.tensor(0.0, device=agent.device)\n",
        "\n",
        "        # Total cost as described in the paper\n",
        "        total_cost = time_penalty + congestion_penalty\n",
        "\n",
        "        return total_cost\n",
        "\n",
        "    def observation(self, agent: Agent):\n",
        "        # Convert continuous position to discrete grid cell\n",
        "        discrete_pos = agent.state.pos\n",
        "        discrete_pos = discrete_pos.reshape(-1)\n",
        "        cell_x = int(discrete_pos[0].item())\n",
        "        cell_y = int(discrete_pos[1].item())\n",
        "\n",
        "        # 1. Agent's discrete position (normalized)\n",
        "        pos = discrete_pos / self.grid_size\n",
        "\n",
        "        # 2. Target relative position (normalized)\n",
        "        target_rel = self.target.state.pos - discrete_pos\n",
        "        target_rel = target_rel / self.grid_size\n",
        "        target_rel = target_rel.reshape(-1)\n",
        "\n",
        "        # 3. ENTIRE GRID population distribution (mean field)\n",
        "        # Flatten the grid distribution and add to observation\n",
        "        grid_distribution_flat = self.mean_field_distribution.flatten()\n",
        "\n",
        "        obs = torch.cat((grid_distribution_flat, target_rel, pos), dim=0)\n",
        "\n",
        "        return obs\n",
        "\n",
        "    def done(self):\n",
        "        # Check if all agents reached the target\n",
        "        all_at_target = True\n",
        "        for agent in self.agents:\n",
        "            if not torch.all(torch.eq(agent.state.pos, torch.tensor([0, 0], device=agent.device))):\n",
        "                all_at_target = False\n",
        "                break\n",
        "\n",
        "        # Or if max steps reached\n",
        "        max_steps_reached = self.step_count >= self.max_steps\n",
        "\n",
        "        # Return as a tensor, not a bool!\n",
        "        done = all_at_target or max_steps_reached\n",
        "\n",
        "        done_tensor = torch.tensor(done, device=self.world.device, dtype=torch.bool)\n",
        "\n",
        "        return done_tensor\n",
        "\n",
        "    def extra_step(self):\n",
        "        # Update population distribution\n",
        "        self.update_mean_field_distribution()\n",
        "        self.step_count += 1\n",
        "\n",
        "\n",
        "# Wrapper to handle discrete actions\n",
        "class DiscreteActionWrapper:\n",
        "    def __init__(self, env):\n",
        "        self.env = env\n",
        "        self.scenario = env.scenario\n",
        "        self.fig, self.ax = None, None  # for reuse\n",
        "\n",
        "    def step(self, actions):\n",
        "        #Handle discrete actions and apply discrete transitions\n",
        "        # Apply discrete transitions to all agents\n",
        "        for i, action_idx in enumerate(actions):\n",
        "            # Apply the discrete grid transition\n",
        "            agent = self.env.agents[i]\n",
        "            self.scenario.discrete_transition(agent, action_idx.item())\n",
        "\n",
        "        # Update scenario-specific state (population distribution, step count)\n",
        "        self.scenario.extra_step()\n",
        "\n",
        "        # Get observations, rewards, and done status\n",
        "        observations = [self.scenario.observation(agent) for agent in self.scenario.agents]\n",
        "        rewards = [self.scenario.reward(agent) for agent in self.scenario.agents]\n",
        "        done = self.scenario.done()\n",
        "\n",
        "        return observations, rewards, done, {}\n",
        "\n",
        "    def render(self, mode=\"human\"):\n",
        "        grid_size = self.scenario.grid_size\n",
        "\n",
        "        # Convert mean-field distribution (agent density) to numpy\n",
        "        density = self.scenario.mean_field_distribution.detach().cpu().numpy()\n",
        "\n",
        "        # Start figure if first time\n",
        "        if self.fig is None:\n",
        "            self.fig, self.ax = plt.subplots()\n",
        "\n",
        "        self.ax.clear()\n",
        "\n",
        "        # Plot heatmap (reds = high density, white = low density)\n",
        "        cmap = plt.cm.Reds\n",
        "        cmap.set_bad(color=\"black\")  # obstacles → black\n",
        "\n",
        "        # Use extent to properly align the grid\n",
        "        im = self.ax.imshow(\n",
        "            density,  # No need to flipud anymore\n",
        "            origin='upper',  # Set origin to upper to match grid coordinates\n",
        "            cmap=cmap,\n",
        "            interpolation=\"nearest\",\n",
        "        )\n",
        "\n",
        "        # Mark target (0,0) as green square - now at top-left\n",
        "        self.ax.scatter(0, 0, marker=\"s\", c=\"lime\", edgecolor=\"black\", s=200, label=\"Target\")\n",
        "\n",
        "        # Add gridlines at integer positions\n",
        "        self.ax.set_xticks(np.arange(-0.5, grid_size, 1))\n",
        "        self.ax.set_yticks(np.arange(-0.5, grid_size, 1))\n",
        "        self.ax.set_xticklabels([])\n",
        "        self.ax.set_yticklabels([])\n",
        "        self.ax.grid(True, which=\"both\", color=\"black\", linewidth=0.5)\n",
        "\n",
        "        # Set limits to ensure proper alignment\n",
        "        self.ax.set_xlim(-0.5, grid_size-0.5)\n",
        "        self.ax.set_ylim(-0.5, grid_size-0.5)\n",
        "\n",
        "        # Add colorbar (density scale)\n",
        "        self.fig.colorbar(im, ax=self.ax, fraction=0.046, pad=0.04, label=\"Agent density\")\n",
        "\n",
        "        plt.pause(0.01)  # non-blocking update\n",
        "        if mode == \"human\":\n",
        "            plt.show(block=False)\n",
        "\n",
        "\n",
        "    def __getattr__(self, name):\n",
        "        #Delegate all other methods to the wrapped environment\n",
        "        return getattr(self.env, name)\n",
        "\n",
        "    def close(self):\n",
        "      if self.fig is not None:\n",
        "          plt.close(self.fig)\n",
        "          self.fig, self.ax = None, None\n",
        "\n"
      ]
    },
    {
      "cell_type": "code",
      "source": [
        "from vmas import make_env\n",
        "env = make_env(\n",
        "    scenario = DiscreteGridTrafficScenario(),\n",
        "    continuous_actions=False,\n",
        "    num_envs = 1,\n",
        ")"
      ],
      "metadata": {
        "id": "xSvZP6aUl5ce"
      },
      "execution_count": 384,
      "outputs": []
    },
    {
      "cell_type": "code",
      "source": [
        "env = DiscreteActionWrapper(env)"
      ],
      "metadata": {
        "id": "EdNAehIOB93G"
      },
      "execution_count": 385,
      "outputs": []
    },
    {
      "cell_type": "code",
      "source": [
        "actions = env.get_random_actions()\n",
        "actions"
      ],
      "metadata": {
        "colab": {
          "base_uri": "https://localhost:8080/"
        },
        "id": "DW9XADQaPTpg",
        "outputId": "08486407-cb7c-48f2-aea8-f5ae78b1dbe9"
      },
      "execution_count": 386,
      "outputs": [
        {
          "output_type": "execute_result",
          "data": {
            "text/plain": [
              "[tensor([2]),\n",
              " tensor([2]),\n",
              " tensor([1]),\n",
              " tensor([3]),\n",
              " tensor([3]),\n",
              " tensor([3]),\n",
              " tensor([3]),\n",
              " tensor([2]),\n",
              " tensor([1]),\n",
              " tensor([1]),\n",
              " tensor([2]),\n",
              " tensor([1]),\n",
              " tensor([2]),\n",
              " tensor([3]),\n",
              " tensor([2]),\n",
              " tensor([3]),\n",
              " tensor([3]),\n",
              " tensor([0]),\n",
              " tensor([2]),\n",
              " tensor([0])]"
            ]
          },
          "metadata": {},
          "execution_count": 386
        }
      ]
    },
    {
      "cell_type": "code",
      "source": [
        "for agent in env.agents:\n",
        "    print(agent.state.pos)"
      ],
      "metadata": {
        "colab": {
          "base_uri": "https://localhost:8080/"
        },
        "id": "mLiYTdpNQMW5",
        "outputId": "b3379483-67bb-43f5-c74d-df3173fd8a44"
      },
      "execution_count": 387,
      "outputs": [
        {
          "output_type": "stream",
          "name": "stdout",
          "text": [
            "tensor([[8, 9]], dtype=torch.int32)\n",
            "tensor([[8, 8]], dtype=torch.int32)\n",
            "tensor([[8, 9]], dtype=torch.int32)\n",
            "tensor([[8, 8]], dtype=torch.int32)\n",
            "tensor([[8, 9]], dtype=torch.int32)\n",
            "tensor([[8, 8]], dtype=torch.int32)\n",
            "tensor([[8, 8]], dtype=torch.int32)\n",
            "tensor([[9, 8]], dtype=torch.int32)\n",
            "tensor([[9, 9]], dtype=torch.int32)\n",
            "tensor([[9, 8]], dtype=torch.int32)\n",
            "tensor([[9, 8]], dtype=torch.int32)\n",
            "tensor([[9, 9]], dtype=torch.int32)\n",
            "tensor([[9, 9]], dtype=torch.int32)\n",
            "tensor([[9, 9]], dtype=torch.int32)\n",
            "tensor([[9, 9]], dtype=torch.int32)\n",
            "tensor([[8, 8]], dtype=torch.int32)\n",
            "tensor([[9, 9]], dtype=torch.int32)\n",
            "tensor([[9, 8]], dtype=torch.int32)\n",
            "tensor([[9, 8]], dtype=torch.int32)\n",
            "tensor([[8, 8]], dtype=torch.int32)\n"
          ]
        }
      ]
    },
    {
      "cell_type": "code",
      "source": [
        "obs, rews, dones, info = env.step(actions)"
      ],
      "metadata": {
        "colab": {
          "base_uri": "https://localhost:8080/"
        },
        "id": "Uz5dtkmGJPy4",
        "outputId": "839a0f8d-60d3-470b-e8f2-6a3f84ca6abf"
      },
      "execution_count": 401,
      "outputs": [
        {
          "output_type": "stream",
          "name": "stderr",
          "text": [
            "/tmp/ipython-input-773504104.py:150: UserWarning: To copy construct from a tensor, it is recommended to use sourceTensor.detach().clone() or sourceTensor.detach().clone().requires_grad_(True), rather than torch.tensor(sourceTensor).\n",
            "  congestion_penalty = self.congestion_weight * torch.tensor(congestion, device=agent.device)\n"
          ]
        }
      ]
    },
    {
      "cell_type": "code",
      "source": [
        "print(f\"Obs length: {len(obs)}, observation of agent 0:\\n{obs[0]}\")"
      ],
      "metadata": {
        "colab": {
          "base_uri": "https://localhost:8080/"
        },
        "id": "GLiMxhW7aREx",
        "outputId": "fbb47750-ed49-4038-d963-4f7ad623f1fd"
      },
      "execution_count": 402,
      "outputs": [
        {
          "output_type": "stream",
          "name": "stdout",
          "text": [
            "Obs length: 20, observation of agent 0:\n",
            "tensor([ 0.0000,  0.0000,  0.0000,  0.0000,  0.0000,  0.0000,  0.0000,  0.0000,\n",
            "         0.0000,  0.0000,  0.0000,  0.0000,  0.0000,  0.0000,  0.0000,  0.0000,\n",
            "         0.0000,  0.0000,  0.0000,  0.0000,  0.0000,  0.0000,  0.0000,  0.0000,\n",
            "         0.0000,  0.0000,  0.0000,  0.0000,  0.0000,  0.0000,  0.0000,  0.0000,\n",
            "         0.0000,  0.0000,  0.0000,  0.0000,  0.0000,  0.0000,  0.0500,  0.0000,\n",
            "         0.0000,  0.0000,  0.0000,  0.0000,  0.0000,  0.0000,  0.0000,  0.0000,\n",
            "         0.0500,  0.0000,  0.0000,  0.0000,  0.0000,  0.0000,  0.0000,  0.0000,\n",
            "         0.0000,  0.0000,  0.0000,  0.0000,  0.0000,  0.0000,  0.0000,  0.0000,\n",
            "         0.0000,  0.0000,  0.0000,  0.0000,  0.0000,  0.0000,  0.0000,  0.0000,\n",
            "         0.0000,  0.0000,  0.0000,  0.0000,  0.0000,  0.0000,  0.0000,  0.0000,\n",
            "         0.0000,  0.0000,  0.0000,  0.2000,  0.0500,  0.0000,  0.0000,  0.0000,\n",
            "         0.0000,  0.1000,  0.0000,  0.0000,  0.0000,  0.0000,  0.1000,  0.0000,\n",
            "         0.0000,  0.0000,  0.0500,  0.4000, -0.8000, -0.9000,  0.8000,  0.9000])\n"
          ]
        }
      ]
    },
    {
      "cell_type": "code",
      "source": [
        "for agent in env.agents:\n",
        "    print(agent.state.pos)"
      ],
      "metadata": {
        "colab": {
          "base_uri": "https://localhost:8080/"
        },
        "id": "B3Bu94YaOuw3",
        "outputId": "6b7a0847-5a58-456c-8307-f7fba1aa1e54"
      },
      "execution_count": 403,
      "outputs": [
        {
          "output_type": "stream",
          "name": "stdout",
          "text": [
            "tensor([[8, 9]], dtype=torch.int32)\n",
            "tensor([[8, 9]])\n",
            "tensor([[9, 9]])\n",
            "tensor([[8, 3]])\n",
            "tensor([[8, 4]])\n",
            "tensor([[8, 3]])\n",
            "tensor([[8, 3]])\n",
            "tensor([[9, 9]])\n",
            "tensor([[9, 9]], dtype=torch.int32)\n",
            "tensor([[9, 8]], dtype=torch.int32)\n",
            "tensor([[9, 9]])\n",
            "tensor([[9, 9]], dtype=torch.int32)\n",
            "tensor([[9, 9]], dtype=torch.int32)\n",
            "tensor([[9, 4]])\n",
            "tensor([[9, 9]], dtype=torch.int32)\n",
            "tensor([[8, 3]])\n",
            "tensor([[9, 4]])\n",
            "tensor([[4, 8]])\n",
            "tensor([[9, 9]])\n",
            "tensor([[3, 8]])\n"
          ]
        }
      ]
    },
    {
      "cell_type": "code",
      "source": [
        "print(f\"Rewards length: {len(rews)}, reward of agent 0:\\n{rews[19]}\")"
      ],
      "metadata": {
        "colab": {
          "base_uri": "https://localhost:8080/"
        },
        "id": "-4wluxKWcICn",
        "outputId": "779e208f-8f4b-49c4-f628-24e68d584318"
      },
      "execution_count": 404,
      "outputs": [
        {
          "output_type": "stream",
          "name": "stdout",
          "text": [
            "Rewards length: 20, reward of agent 0:\n",
            "0.550000011920929\n"
          ]
        }
      ]
    },
    {
      "cell_type": "code",
      "source": [
        "print(dones)"
      ],
      "metadata": {
        "colab": {
          "base_uri": "https://localhost:8080/"
        },
        "id": "2TREikhkcKoA",
        "outputId": "e58dbc9e-963f-431d-ec8a-9d00ebf354da"
      },
      "execution_count": 405,
      "outputs": [
        {
          "output_type": "stream",
          "name": "stdout",
          "text": [
            "tensor(False)\n"
          ]
        }
      ]
    },
    {
      "cell_type": "code",
      "source": [
        "env.scenario.mean_field_distribution[7,8]"
      ],
      "metadata": {
        "colab": {
          "base_uri": "https://localhost:8080/"
        },
        "id": "05T2TbqsjsYD",
        "outputId": "e28ff862-2c14-4ac6-c834-3ab18a22d7d4"
      },
      "execution_count": 406,
      "outputs": [
        {
          "output_type": "execute_result",
          "data": {
            "text/plain": [
              "tensor(0.)"
            ]
          },
          "metadata": {},
          "execution_count": 406
        }
      ]
    },
    {
      "cell_type": "code",
      "source": [
        "env.render()"
      ],
      "metadata": {
        "colab": {
          "base_uri": "https://localhost:8080/",
          "height": 475
        },
        "id": "vEnDcd7qi-Gw",
        "outputId": "a501faa5-db7c-43c7-84ba-6961741d1ffb"
      },
      "execution_count": 409,
      "outputs": [
        {
          "output_type": "display_data",
          "data": {
            "text/plain": [
              "<Figure size 640x480 with 2 Axes>"
            ],
            "image/png": "[encoded data removed]"
          },
          "metadata": {}
        },
        {
          "output_type": "stream",
          "name": "stderr",
          "text": [
            "/usr/local/lib/python3.12/dist-packages/jupyter_client/session.py:151: DeprecationWarning: datetime.datetime.utcnow() is deprecated and scheduled for removal in a future version. Use timezone-aware objects to represent datetimes in UTC: datetime.datetime.now(datetime.UTC).\n",
            "  return datetime.utcnow().replace(tzinfo=utc)\n"
          ]
        }
      ]
    },
    {
      "cell_type": "code",
      "source": [
        "env.close()"
      ],
      "metadata": {
        "id": "fPG2B880kGm0"
      },
      "execution_count": 408,
      "outputs": []
    },
    {
      "cell_type": "code",
      "source": [
        "# @title Install GNN dependencies\n",
        "# Add this in a Google Colab cell to install the correct version of Pytorch Geometric.\n",
        "import torch\n",
        "\n",
        "def format_pytorch_version(version):\n",
        "  return version.split('+')[0]\n",
        "\n",
        "TORCH_version = torch.__version__\n",
        "TORCH = format_pytorch_version(TORCH_version)\n",
        "\n",
        "def format_cuda_version(version):\n",
        "  return 'cu' + version.replace('.', '')\n",
        "\n",
        "CUDA_version = torch.version.cuda\n",
        "CUDA = format_cuda_version(CUDA_version)\n",
        "\n",
        "!pip install torch-cluster -f https://data.pyg.org/whl/torch-{TORCH}+{CUDA}.html\n",
        "!pip install torch-geometric"
      ],
      "metadata": {
        "colab": {
          "base_uri": "https://localhost:8080/"
        },
        "id": "IrJc5q4yvFYF",
        "outputId": "a13ed163-e806-4e66-9684-d203cdbd7208"
      },
      "execution_count": 412,
      "outputs": [
        {
          "output_type": "stream",
          "name": "stdout",
          "text": [
            "Looking in links: https://data.pyg.org/whl/torch-2.8.0+cu126.html\n",
            "Collecting torch-cluster\n",
            "  Downloading https://data.pyg.org/whl/torch-2.8.0%2Bcu126/torch_cluster-1.6.3%2Bpt28cu126-cp312-cp312-linux_x86_64.whl (3.3 MB)\n",
            "\u001b[2K     \u001b[90m━━━━━━━━━━━━━━━━━━━━━━━━━━━━━━━━━━━━━━━━\u001b[0m \u001b[32m3.3/3.3 MB\u001b[0m \u001b[31m18.7 MB/s\u001b[0m eta \u001b[36m0:00:00\u001b[0m\n",
            "\u001b[?25hRequirement already satisfied: scipy in /usr/local/lib/python3.12/dist-packages (from torch-cluster) (1.16.1)\n",
            "Requirement already satisfied: numpy<2.6,>=1.25.2 in /usr/local/lib/python3.12/dist-packages (from scipy->torch-cluster) (2.0.2)\n",
            "Installing collected packages: torch-cluster\n",
            "Successfully installed torch-cluster-1.6.3+pt28cu126\n",
            "Collecting torch-geometric\n",
            "  Downloading torch_geometric-2.6.1-py3-none-any.whl.metadata (63 kB)\n",
            "\u001b[2K     \u001b[90m━━━━━━━━━━━━━━━━━━━━━━━━━━━━━━━━━━━━━━━━\u001b[0m \u001b[32m63.1/63.1 kB\u001b[0m \u001b[31m2.8 MB/s\u001b[0m eta \u001b[36m0:00:00\u001b[0m\n",
            "\u001b[?25hRequirement already satisfied: aiohttp in /usr/local/lib/python3.12/dist-packages (from torch-geometric) (3.12.15)\n",
            "Requirement already satisfied: fsspec in /usr/local/lib/python3.12/dist-packages (from torch-geometric) (2025.3.0)\n",
            "Requirement already satisfied: jinja2 in /usr/local/lib/python3.12/dist-packages (from torch-geometric) (3.1.6)\n",
            "Requirement already satisfied: numpy in /usr/local/lib/python3.12/dist-packages (from torch-geometric) (2.0.2)\n",
            "Requirement already satisfied: psutil>=5.8.0 in /usr/local/lib/python3.12/dist-packages (from torch-geometric) (5.9.5)\n",
            "Requirement already satisfied: pyparsing in /usr/local/lib/python3.12/dist-packages (from torch-geometric) (3.2.3)\n",
            "Requirement already satisfied: requests in /usr/local/lib/python3.12/dist-packages (from torch-geometric) (2.32.4)\n",
            "Requirement already satisfied: tqdm in /usr/local/lib/python3.12/dist-packages (from torch-geometric) (4.67.1)\n",
            "Requirement already satisfied: aiohappyeyeballs>=2.5.0 in /usr/local/lib/python3.12/dist-packages (from aiohttp->torch-geometric) (2.6.1)\n",
            "Requirement already satisfied: aiosignal>=1.4.0 in /usr/local/lib/python3.12/dist-packages (from aiohttp->torch-geometric) (1.4.0)\n",
            "Requirement already satisfied: attrs>=17.3.0 in /usr/local/lib/python3.12/dist-packages (from aiohttp->torch-geometric) (25.3.0)\n",
            "Requirement already satisfied: frozenlist>=1.1.1 in /usr/local/lib/python3.12/dist-packages (from aiohttp->torch-geometric) (1.7.0)\n",
            "Requirement already satisfied: multidict<7.0,>=4.5 in /usr/local/lib/python3.12/dist-packages (from aiohttp->torch-geometric) (6.6.4)\n",
            "Requirement already satisfied: propcache>=0.2.0 in /usr/local/lib/python3.12/dist-packages (from aiohttp->torch-geometric) (0.3.2)\n",
            "Requirement already satisfied: yarl<2.0,>=1.17.0 in /usr/local/lib/python3.12/dist-packages (from aiohttp->torch-geometric) (1.20.1)\n",
            "Requirement already satisfied: MarkupSafe>=2.0 in /usr/local/lib/python3.12/dist-packages (from jinja2->torch-geometric) (3.0.2)\n",
            "Requirement already satisfied: charset_normalizer<4,>=2 in /usr/local/lib/python3.12/dist-packages (from requests->torch-geometric) (3.4.3)\n",
            "Requirement already satisfied: idna<4,>=2.5 in /usr/local/lib/python3.12/dist-packages (from requests->torch-geometric) (3.10)\n",
            "Requirement already satisfied: urllib3<3,>=1.21.1 in /usr/local/lib/python3.12/dist-packages (from requests->torch-geometric) (2.5.0)\n",
            "Requirement already satisfied: certifi>=2017.4.17 in /usr/local/lib/python3.12/dist-packages (from requests->torch-geometric) (2025.8.3)\n",
            "Requirement already satisfied: typing-extensions>=4.2 in /usr/local/lib/python3.12/dist-packages (from aiosignal>=1.4.0->aiohttp->torch-geometric) (4.14.1)\n",
            "Downloading torch_geometric-2.6.1-py3-none-any.whl (1.1 MB)\n",
            "\u001b[2K   \u001b[90m━━━━━━━━━━━━━━━━━━━━━━━━━━━━━━━━━━━━━━━━\u001b[0m \u001b[32m1.1/1.1 MB\u001b[0m \u001b[31m30.6 MB/s\u001b[0m eta \u001b[36m0:00:00\u001b[0m\n",
            "\u001b[?25hInstalling collected packages: torch-geometric\n",
            "Successfully installed torch-geometric-2.6.1\n"
          ]
        }
      ]
    },
    {
      "cell_type": "code",
      "source": [],
      "metadata": {
        "id": "G12VrcqXvGgU"
      },
      "execution_count": null,
      "outputs": []
    }
  ]
}